{
 "cells": [
  {
   "cell_type": "code",
   "execution_count": 1,
   "metadata": {},
   "outputs": [],
   "source": [
    "#import libraries\n",
    "import pandas as pd\n",
    "import numpy as np\n",
    "import matplotlib.pyplot as plt"
   ]
  },
  {
   "cell_type": "code",
   "execution_count": 29,
   "metadata": {},
   "outputs": [],
   "source": [
    "# import warnings filter\n",
    "from warnings import simplefilter\n",
    "# ignore all future warnings\n",
    "simplefilter(action='ignore', category = FutureWarning)\n",
    "# import warnings filter\n",
    "from warnings import simplefilter\n",
    "# ignore all future warnings\n",
    "simplefilter(action='ignore', category = FutureWarning)\n"
   ]
  },
  {
   "cell_type": "code",
   "execution_count": 2,
   "metadata": {},
   "outputs": [],
   "source": [
    "#import data\n",
    "df = pd.read_csv('cleveland.csv', header = None)"
   ]
  },
  {
   "cell_type": "code",
   "execution_count": 3,
   "metadata": {},
   "outputs": [],
   "source": [
    "#Adding columns\n",
    "df.columns = [\"age\", \"sex\", \"cp\", \"restbp\", \"chol\", \"fbs\", \"restecg\", \n",
    "           \"thalach\", \"exang\", \"oldpeak\", \"slope\", \"ca\", \"thal\", \"target\"]\n"
   ]
  },
  {
   "cell_type": "code",
   "execution_count": 4,
   "metadata": {},
   "outputs": [
    {
     "data": {
      "text/html": [
       "<div>\n",
       "<style scoped>\n",
       "    .dataframe tbody tr th:only-of-type {\n",
       "        vertical-align: middle;\n",
       "    }\n",
       "\n",
       "    .dataframe tbody tr th {\n",
       "        vertical-align: top;\n",
       "    }\n",
       "\n",
       "    .dataframe thead th {\n",
       "        text-align: right;\n",
       "    }\n",
       "</style>\n",
       "<table border=\"1\" class=\"dataframe\">\n",
       "  <thead>\n",
       "    <tr style=\"text-align: right;\">\n",
       "      <th></th>\n",
       "      <th>age</th>\n",
       "      <th>sex</th>\n",
       "      <th>cp</th>\n",
       "      <th>restbp</th>\n",
       "      <th>chol</th>\n",
       "      <th>fbs</th>\n",
       "      <th>restecg</th>\n",
       "      <th>thalach</th>\n",
       "      <th>exang</th>\n",
       "      <th>oldpeak</th>\n",
       "      <th>slope</th>\n",
       "      <th>ca</th>\n",
       "      <th>thal</th>\n",
       "      <th>target</th>\n",
       "    </tr>\n",
       "  </thead>\n",
       "  <tbody>\n",
       "    <tr>\n",
       "      <th>0</th>\n",
       "      <td>63</td>\n",
       "      <td>1</td>\n",
       "      <td>1</td>\n",
       "      <td>145</td>\n",
       "      <td>233</td>\n",
       "      <td>1</td>\n",
       "      <td>2</td>\n",
       "      <td>150</td>\n",
       "      <td>0</td>\n",
       "      <td>2.3</td>\n",
       "      <td>3</td>\n",
       "      <td>0.0</td>\n",
       "      <td>6.0</td>\n",
       "      <td>0</td>\n",
       "    </tr>\n",
       "    <tr>\n",
       "      <th>1</th>\n",
       "      <td>67</td>\n",
       "      <td>1</td>\n",
       "      <td>4</td>\n",
       "      <td>160</td>\n",
       "      <td>286</td>\n",
       "      <td>0</td>\n",
       "      <td>2</td>\n",
       "      <td>108</td>\n",
       "      <td>1</td>\n",
       "      <td>1.5</td>\n",
       "      <td>2</td>\n",
       "      <td>3.0</td>\n",
       "      <td>3.0</td>\n",
       "      <td>2</td>\n",
       "    </tr>\n",
       "    <tr>\n",
       "      <th>2</th>\n",
       "      <td>67</td>\n",
       "      <td>1</td>\n",
       "      <td>4</td>\n",
       "      <td>120</td>\n",
       "      <td>229</td>\n",
       "      <td>0</td>\n",
       "      <td>2</td>\n",
       "      <td>129</td>\n",
       "      <td>1</td>\n",
       "      <td>2.6</td>\n",
       "      <td>2</td>\n",
       "      <td>2.0</td>\n",
       "      <td>7.0</td>\n",
       "      <td>1</td>\n",
       "    </tr>\n",
       "    <tr>\n",
       "      <th>3</th>\n",
       "      <td>37</td>\n",
       "      <td>1</td>\n",
       "      <td>3</td>\n",
       "      <td>130</td>\n",
       "      <td>250</td>\n",
       "      <td>0</td>\n",
       "      <td>0</td>\n",
       "      <td>187</td>\n",
       "      <td>0</td>\n",
       "      <td>3.5</td>\n",
       "      <td>3</td>\n",
       "      <td>0.0</td>\n",
       "      <td>3.0</td>\n",
       "      <td>0</td>\n",
       "    </tr>\n",
       "    <tr>\n",
       "      <th>4</th>\n",
       "      <td>41</td>\n",
       "      <td>0</td>\n",
       "      <td>2</td>\n",
       "      <td>130</td>\n",
       "      <td>204</td>\n",
       "      <td>0</td>\n",
       "      <td>2</td>\n",
       "      <td>172</td>\n",
       "      <td>0</td>\n",
       "      <td>1.4</td>\n",
       "      <td>1</td>\n",
       "      <td>0.0</td>\n",
       "      <td>3.0</td>\n",
       "      <td>0</td>\n",
       "    </tr>\n",
       "  </tbody>\n",
       "</table>\n",
       "</div>"
      ],
      "text/plain": [
       "   age  sex  cp  restbp  chol  fbs  restecg  thalach  exang  oldpeak  slope  \\\n",
       "0   63    1   1     145   233    1        2      150      0      2.3      3   \n",
       "1   67    1   4     160   286    0        2      108      1      1.5      2   \n",
       "2   67    1   4     120   229    0        2      129      1      2.6      2   \n",
       "3   37    1   3     130   250    0        0      187      0      3.5      3   \n",
       "4   41    0   2     130   204    0        2      172      0      1.4      1   \n",
       "\n",
       "    ca  thal  target  \n",
       "0  0.0   6.0       0  \n",
       "1  3.0   3.0       2  \n",
       "2  2.0   7.0       1  \n",
       "3  0.0   3.0       0  \n",
       "4  0.0   3.0       0  "
      ]
     },
     "execution_count": 4,
     "metadata": {},
     "output_type": "execute_result"
    }
   ],
   "source": [
    "#Print top 5 rows\n",
    "df.head()"
   ]
  },
  {
   "cell_type": "code",
   "execution_count": 5,
   "metadata": {},
   "outputs": [
    {
     "name": "stdout",
     "output_type": "stream",
     "text": [
      "<class 'pandas.core.frame.DataFrame'>\n",
      "RangeIndex: 303 entries, 0 to 302\n",
      "Data columns (total 14 columns):\n",
      " #   Column   Non-Null Count  Dtype  \n",
      "---  ------   --------------  -----  \n",
      " 0   age      303 non-null    int64  \n",
      " 1   sex      303 non-null    int64  \n",
      " 2   cp       303 non-null    int64  \n",
      " 3   restbp   303 non-null    int64  \n",
      " 4   chol     303 non-null    int64  \n",
      " 5   fbs      303 non-null    int64  \n",
      " 6   restecg  303 non-null    int64  \n",
      " 7   thalach  303 non-null    int64  \n",
      " 8   exang    303 non-null    int64  \n",
      " 9   oldpeak  303 non-null    float64\n",
      " 10  slope    303 non-null    int64  \n",
      " 11  ca       299 non-null    float64\n",
      " 12  thal     301 non-null    float64\n",
      " 13  target   303 non-null    int64  \n",
      "dtypes: float64(3), int64(11)\n",
      "memory usage: 33.3 KB\n"
     ]
    }
   ],
   "source": [
    "#information of dataset\n",
    "df.info()"
   ]
  },
  {
   "cell_type": "code",
   "execution_count": 6,
   "metadata": {},
   "outputs": [
    {
     "data": {
      "text/html": [
       "<div>\n",
       "<style scoped>\n",
       "    .dataframe tbody tr th:only-of-type {\n",
       "        vertical-align: middle;\n",
       "    }\n",
       "\n",
       "    .dataframe tbody tr th {\n",
       "        vertical-align: top;\n",
       "    }\n",
       "\n",
       "    .dataframe thead th {\n",
       "        text-align: right;\n",
       "    }\n",
       "</style>\n",
       "<table border=\"1\" class=\"dataframe\">\n",
       "  <thead>\n",
       "    <tr style=\"text-align: right;\">\n",
       "      <th></th>\n",
       "      <th>age</th>\n",
       "      <th>sex</th>\n",
       "      <th>cp</th>\n",
       "      <th>restbp</th>\n",
       "      <th>chol</th>\n",
       "      <th>fbs</th>\n",
       "      <th>restecg</th>\n",
       "      <th>thalach</th>\n",
       "      <th>exang</th>\n",
       "      <th>oldpeak</th>\n",
       "      <th>slope</th>\n",
       "      <th>ca</th>\n",
       "      <th>thal</th>\n",
       "      <th>target</th>\n",
       "    </tr>\n",
       "  </thead>\n",
       "  <tbody>\n",
       "    <tr>\n",
       "      <th>count</th>\n",
       "      <td>303.000000</td>\n",
       "      <td>303.000000</td>\n",
       "      <td>303.000000</td>\n",
       "      <td>303.000000</td>\n",
       "      <td>303.000000</td>\n",
       "      <td>303.000000</td>\n",
       "      <td>303.000000</td>\n",
       "      <td>303.000000</td>\n",
       "      <td>303.000000</td>\n",
       "      <td>303.000000</td>\n",
       "      <td>303.000000</td>\n",
       "      <td>299.000000</td>\n",
       "      <td>301.000000</td>\n",
       "      <td>303.000000</td>\n",
       "    </tr>\n",
       "    <tr>\n",
       "      <th>mean</th>\n",
       "      <td>54.438944</td>\n",
       "      <td>0.679868</td>\n",
       "      <td>3.158416</td>\n",
       "      <td>131.689769</td>\n",
       "      <td>246.693069</td>\n",
       "      <td>0.148515</td>\n",
       "      <td>0.990099</td>\n",
       "      <td>149.607261</td>\n",
       "      <td>0.326733</td>\n",
       "      <td>1.039604</td>\n",
       "      <td>1.600660</td>\n",
       "      <td>0.672241</td>\n",
       "      <td>4.734219</td>\n",
       "      <td>0.937294</td>\n",
       "    </tr>\n",
       "    <tr>\n",
       "      <th>std</th>\n",
       "      <td>9.038662</td>\n",
       "      <td>0.467299</td>\n",
       "      <td>0.960126</td>\n",
       "      <td>17.599748</td>\n",
       "      <td>51.776918</td>\n",
       "      <td>0.356198</td>\n",
       "      <td>0.994971</td>\n",
       "      <td>22.875003</td>\n",
       "      <td>0.469794</td>\n",
       "      <td>1.161075</td>\n",
       "      <td>0.616226</td>\n",
       "      <td>0.937438</td>\n",
       "      <td>1.939706</td>\n",
       "      <td>1.228536</td>\n",
       "    </tr>\n",
       "    <tr>\n",
       "      <th>min</th>\n",
       "      <td>29.000000</td>\n",
       "      <td>0.000000</td>\n",
       "      <td>1.000000</td>\n",
       "      <td>94.000000</td>\n",
       "      <td>126.000000</td>\n",
       "      <td>0.000000</td>\n",
       "      <td>0.000000</td>\n",
       "      <td>71.000000</td>\n",
       "      <td>0.000000</td>\n",
       "      <td>0.000000</td>\n",
       "      <td>1.000000</td>\n",
       "      <td>0.000000</td>\n",
       "      <td>3.000000</td>\n",
       "      <td>0.000000</td>\n",
       "    </tr>\n",
       "    <tr>\n",
       "      <th>25%</th>\n",
       "      <td>48.000000</td>\n",
       "      <td>0.000000</td>\n",
       "      <td>3.000000</td>\n",
       "      <td>120.000000</td>\n",
       "      <td>211.000000</td>\n",
       "      <td>0.000000</td>\n",
       "      <td>0.000000</td>\n",
       "      <td>133.500000</td>\n",
       "      <td>0.000000</td>\n",
       "      <td>0.000000</td>\n",
       "      <td>1.000000</td>\n",
       "      <td>0.000000</td>\n",
       "      <td>3.000000</td>\n",
       "      <td>0.000000</td>\n",
       "    </tr>\n",
       "    <tr>\n",
       "      <th>50%</th>\n",
       "      <td>56.000000</td>\n",
       "      <td>1.000000</td>\n",
       "      <td>3.000000</td>\n",
       "      <td>130.000000</td>\n",
       "      <td>241.000000</td>\n",
       "      <td>0.000000</td>\n",
       "      <td>1.000000</td>\n",
       "      <td>153.000000</td>\n",
       "      <td>0.000000</td>\n",
       "      <td>0.800000</td>\n",
       "      <td>2.000000</td>\n",
       "      <td>0.000000</td>\n",
       "      <td>3.000000</td>\n",
       "      <td>0.000000</td>\n",
       "    </tr>\n",
       "    <tr>\n",
       "      <th>75%</th>\n",
       "      <td>61.000000</td>\n",
       "      <td>1.000000</td>\n",
       "      <td>4.000000</td>\n",
       "      <td>140.000000</td>\n",
       "      <td>275.000000</td>\n",
       "      <td>0.000000</td>\n",
       "      <td>2.000000</td>\n",
       "      <td>166.000000</td>\n",
       "      <td>1.000000</td>\n",
       "      <td>1.600000</td>\n",
       "      <td>2.000000</td>\n",
       "      <td>1.000000</td>\n",
       "      <td>7.000000</td>\n",
       "      <td>2.000000</td>\n",
       "    </tr>\n",
       "    <tr>\n",
       "      <th>max</th>\n",
       "      <td>77.000000</td>\n",
       "      <td>1.000000</td>\n",
       "      <td>4.000000</td>\n",
       "      <td>200.000000</td>\n",
       "      <td>564.000000</td>\n",
       "      <td>1.000000</td>\n",
       "      <td>2.000000</td>\n",
       "      <td>202.000000</td>\n",
       "      <td>1.000000</td>\n",
       "      <td>6.200000</td>\n",
       "      <td>3.000000</td>\n",
       "      <td>3.000000</td>\n",
       "      <td>7.000000</td>\n",
       "      <td>4.000000</td>\n",
       "    </tr>\n",
       "  </tbody>\n",
       "</table>\n",
       "</div>"
      ],
      "text/plain": [
       "              age         sex          cp      restbp        chol         fbs  \\\n",
       "count  303.000000  303.000000  303.000000  303.000000  303.000000  303.000000   \n",
       "mean    54.438944    0.679868    3.158416  131.689769  246.693069    0.148515   \n",
       "std      9.038662    0.467299    0.960126   17.599748   51.776918    0.356198   \n",
       "min     29.000000    0.000000    1.000000   94.000000  126.000000    0.000000   \n",
       "25%     48.000000    0.000000    3.000000  120.000000  211.000000    0.000000   \n",
       "50%     56.000000    1.000000    3.000000  130.000000  241.000000    0.000000   \n",
       "75%     61.000000    1.000000    4.000000  140.000000  275.000000    0.000000   \n",
       "max     77.000000    1.000000    4.000000  200.000000  564.000000    1.000000   \n",
       "\n",
       "          restecg     thalach       exang     oldpeak       slope          ca  \\\n",
       "count  303.000000  303.000000  303.000000  303.000000  303.000000  299.000000   \n",
       "mean     0.990099  149.607261    0.326733    1.039604    1.600660    0.672241   \n",
       "std      0.994971   22.875003    0.469794    1.161075    0.616226    0.937438   \n",
       "min      0.000000   71.000000    0.000000    0.000000    1.000000    0.000000   \n",
       "25%      0.000000  133.500000    0.000000    0.000000    1.000000    0.000000   \n",
       "50%      1.000000  153.000000    0.000000    0.800000    2.000000    0.000000   \n",
       "75%      2.000000  166.000000    1.000000    1.600000    2.000000    1.000000   \n",
       "max      2.000000  202.000000    1.000000    6.200000    3.000000    3.000000   \n",
       "\n",
       "             thal      target  \n",
       "count  301.000000  303.000000  \n",
       "mean     4.734219    0.937294  \n",
       "std      1.939706    1.228536  \n",
       "min      3.000000    0.000000  \n",
       "25%      3.000000    0.000000  \n",
       "50%      3.000000    0.000000  \n",
       "75%      7.000000    2.000000  \n",
       "max      7.000000    4.000000  "
      ]
     },
     "execution_count": 6,
     "metadata": {},
     "output_type": "execute_result"
    }
   ],
   "source": [
    "#Description of dataset\n",
    "description = df.describe()\n",
    "description"
   ]
  },
  {
   "cell_type": "code",
   "execution_count": 8,
   "metadata": {},
   "outputs": [
    {
     "data": {
      "text/plain": [
       "age        0\n",
       "sex        0\n",
       "cp         0\n",
       "restbp     0\n",
       "chol       0\n",
       "fbs        0\n",
       "restecg    0\n",
       "thalach    0\n",
       "exang      0\n",
       "oldpeak    0\n",
       "slope      0\n",
       "ca         4\n",
       "thal       2\n",
       "target     0\n",
       "dtype: int64"
      ]
     },
     "execution_count": 8,
     "metadata": {},
     "output_type": "execute_result"
    }
   ],
   "source": [
    "#Calculating null values\n",
    "df.isnull().sum()"
   ]
  },
  {
   "cell_type": "code",
   "execution_count": 13,
   "metadata": {},
   "outputs": [
    {
     "data": {
      "text/plain": [
       "(0.0, 1.0, 0.0, 1.0)"
      ]
     },
     "execution_count": 13,
     "metadata": {},
     "output_type": "execute_result"
    },
    {
     "data": {
      "image/png": "[encoded data removed]",
      "text/plain": [
       "<Figure size 1440x2880 with 15 Axes>"
      ]
     },
     "metadata": {
      "needs_background": "light"
     },
     "output_type": "display_data"
    }
   ],
   "source": [
    "#data visualisation\n",
    "fig, axes = plt.subplots( nrows=5, ncols=3, figsize=(20,40) )\n",
    "plt.subplots_adjust( wspace=0.20, hspace=0.20, top=0.97 )\n",
    "plt.suptitle(\"Heart Disease Data\", fontsize=20)\n",
    "\n",
    "axes[0,0].hist(df.age,color='yellow',edgecolor='black')\n",
    "axes[0,0].set_xlabel(\"Age (years)\")\n",
    "axes[0,0].set_ylabel(\"Number of Patients\")\n",
    "\n",
    "axes[0,1].hist(df.sex,edgecolor='black')\n",
    "axes[0,1].set_xlabel(\"Sex (0=female,1=male)\")\n",
    "axes[0,1].set_ylabel(\"Number of Patients\")\n",
    "\n",
    "axes[0,2].hist(df.cp,bins=4,range=(0.5,4.5),rwidth=0.80,color='yellow',edgecolor='black')\n",
    "axes[0,2].set_xlim(0.0,5.0)\n",
    "axes[0,2].set_xlabel(\"Type of Chest Pain [cp]\")\n",
    "axes[0,2].set_ylabel(\"Number of Patients\")\n",
    "\n",
    "axes[1,0].hist(df.restbp,edgecolor='black')\n",
    "axes[1,0].set_xlabel(\"Resting Blood Pressure [restbp]\")\n",
    "axes[1,0].set_ylabel(\"Number of Patients\")\n",
    "\n",
    "axes[1,1].hist(df.chol,color='yellow',edgecolor='black')\n",
    "axes[1,1].set_xlabel(\"Serum Cholesterol [chol]\")\n",
    "axes[1,1].set_ylabel(\"Number of Patients\")\n",
    "\n",
    "axes[1,2].hist(df.fbs,edgecolor='black')\n",
    "axes[1,2].set_xlabel(\"Fasting Blood Sugar [fbs]\")\n",
    "axes[1,2].set_ylabel(\"Number of Patients\")\n",
    "\n",
    "axes[2,0].hist(df.restecg,color='yellow',edgecolor='black')\n",
    "axes[2,0].set_xlabel(\"Resting Electrocardiography [restecg]\")\n",
    "axes[2,0].set_ylabel(\"Number of Patients\")\n",
    "\n",
    "axes[2,1].hist(df.thalach,edgecolor='black')\n",
    "axes[2,1].set_xlabel(\"Maximum Heart Rate Achieved [thalach]\")\n",
    "axes[2,1].set_ylabel(\"Number of Patients\")\n",
    "\n",
    "axes[2,2].hist(df.exang,color='yellow',edgecolor='black')\n",
    "axes[2,2].set_xlabel(\"Exercise Induced Angina [exang]\")\n",
    "axes[2,2].set_ylabel(\"Number of Patients\")\n",
    "\n",
    "axes[3,0].hist(df.oldpeak,edgecolor='black')\n",
    "axes[3,0].set_xlabel(\"Exercise Induced ST Depression [oldpeak]\")\n",
    "axes[3,0].set_ylabel(\"Number of Patients\")\n",
    "\n",
    "axes[3,1].hist(df.slope,color='yellow',edgecolor='black')\n",
    "axes[3,1].set_xlabel(\"Slope of Peak Exercise ST Segment [slope]\")\n",
    "axes[3,1].set_ylabel(\"Number of Patients\")\n",
    "\n",
    "axes[3,2].hist(df.ca,bins=4,range=(-0.5,3.5),rwidth=0.8,edgecolor='black')\n",
    "axes[3,2].set_xlim(-0.7,3.7)\n",
    "axes[3,2].set_xlabel(\"Major Vessels colored by Fluoroscopy [ca]\")\n",
    "axes[3,2].set_ylabel(\"Number of Patients\")\n",
    "\n",
    "axes[4,0].hist(df.thal,color='yellow',edgecolor='black')\n",
    "axes[4,0].set_xlabel(\"Thal\")\n",
    "axes[4,0].set_ylabel(\"Number of Patients\")\n",
    "\n",
    "axes[4,1].hist(df.target,bins=5,range=(-0.5,4.5),rwidth=0.8,edgecolor='black')\n",
    "axes[4,1].set_xlim(-0.7,4.7)\n",
    "axes[4,1].set_xlabel(\"Heart Disease [target]\")\n",
    "axes[4,1].set_ylabel(\"Number of Patients\")\n",
    "\n",
    "axes[4,2].axis(\"off\")\n",
    "\n"
   ]
  },
  {
   "cell_type": "code",
   "execution_count": 14,
   "metadata": {},
   "outputs": [],
   "source": [
    "#mapping \n",
    "#those don't have risk of heart attack : 0\n",
    "#those have risk of heart attack : 1\n",
    "df['target'] = df.target.map({0: 0, 1: 1, 2: 1, 3: 1, 4: 1})\n"
   ]
  },
  {
   "cell_type": "code",
   "execution_count": 15,
   "metadata": {},
   "outputs": [],
   "source": [
    "#handling null value\n",
    "df['thal'] = df.thal.fillna(df.thal.mean())\n",
    "df['ca'] = df.ca.fillna(df.ca.mean())\n",
    "\n"
   ]
  },
  {
   "cell_type": "code",
   "execution_count": 17,
   "metadata": {},
   "outputs": [
    {
     "data": {
      "text/plain": [
       "age        0\n",
       "sex        0\n",
       "cp         0\n",
       "restbp     0\n",
       "chol       0\n",
       "fbs        0\n",
       "restecg    0\n",
       "thalach    0\n",
       "exang      0\n",
       "oldpeak    0\n",
       "slope      0\n",
       "ca         0\n",
       "thal       0\n",
       "target     0\n",
       "dtype: int64"
      ]
     },
     "execution_count": 17,
     "metadata": {},
     "output_type": "execute_result"
    }
   ],
   "source": [
    "df.isnull().sum()"
   ]
  },
  {
   "cell_type": "code",
   "execution_count": 18,
   "metadata": {},
   "outputs": [],
   "source": [
    "#seprating feature matrix and feature vector\n",
    "X = df.iloc[:, :-1].values\n",
    "y = df.iloc[:, -1].values\n"
   ]
  },
  {
   "cell_type": "code",
   "execution_count": 19,
   "metadata": {},
   "outputs": [],
   "source": [
    "#Seprating train and test set\n",
    "from sklearn.model_selection import train_test_split\n",
    "X_train, X_test, y_train, y_test = train_test_split(X, y, test_size = 0.2, random_state = 0)"
   ]
  },
  {
   "cell_type": "code",
   "execution_count": 20,
   "metadata": {},
   "outputs": [],
   "source": [
    "#Standard scaling data\n",
    "from sklearn.preprocessing import StandardScaler as ss\n",
    "sc = ss()\n",
    "X_train = sc.fit_transform(X_train)\n",
    "X_test = sc.transform(X_test)\n",
    "\n"
   ]
  },
  {
   "cell_type": "markdown",
   "metadata": {},
   "source": [
    "# Building model"
   ]
  },
  {
   "cell_type": "code",
   "execution_count": 25,
   "metadata": {},
   "outputs": [
    {
     "name": "stdout",
     "output_type": "stream",
     "text": [
      "\n",
      "Accuracy for training set for svm = 0.9256198347107438\n",
      "Accuracy for test set for svm = 0.8032786885245902\n",
      "\n",
      "confusion matrix\n",
      "[[124  13]\n",
      " [  5 100]]\n"
     ]
    }
   ],
   "source": [
    "# Support vector matrix\n",
    "from sklearn.svm import SVC\n",
    "classifier = SVC(kernel = 'rbf')\n",
    "classifier.fit(X_train, y_train)\n",
    "\n",
    "# Predicting the Test set results\n",
    "y_pred_svm = classifier.predict(X_test)\n",
    "\n",
    "from sklearn.metrics import confusion_matrix\n",
    "cm_test_svm = confusion_matrix(y_pred_svm, y_test)\n",
    "\n",
    "y_pred_train_svm = classifier.predict(X_train)\n",
    "cm_train_svm = confusion_matrix(y_pred_train_svm, y_train)\n",
    "\n",
    "\n",
    "accuracy_train_svm = ((cm_train_svm[0][0] + cm_train_svm[1][1])/len(y_train))\n",
    "accuracy_test_svm = ((cm_test_svm[0][0] + cm_test_svm[1][1])/len(y_test))\n",
    "print()\n",
    "print('Accuracy for training set for svm = {}'.format(accuracy_train_svm))\n",
    "print('Accuracy for test set for svm = {}'.format(accuracy_test_svm))\n",
    "print()\n",
    "print(\"confusion matrix\")\n",
    "print(cm_train_svm)\n",
    "\n"
   ]
  },
  {
   "cell_type": "code",
   "execution_count": 27,
   "metadata": {},
   "outputs": [
    {
     "name": "stdout",
     "output_type": "stream",
     "text": [
      "\n",
      "Accuracy for training set for nb = 0.8677685950413223\n",
      "Accuracy for test set for nb = 0.7868852459016393\n",
      "\n",
      "confusion matrix\n",
      "[[117  20]\n",
      " [ 12  93]]\n"
     ]
    }
   ],
   "source": [
    "#Naive Bayes\n",
    "\n",
    "from sklearn.naive_bayes import GaussianNB\n",
    "classifier = GaussianNB()\n",
    "classifier.fit(X_train, y_train)\n",
    "\n",
    "\n",
    "# Predicting the Test set results\n",
    "y_pred_test_nb = classifier.predict(X_test)\n",
    "\n",
    "from sklearn.metrics import confusion_matrix\n",
    "cm_test_nb = confusion_matrix(y_pred_test_nb, y_test)\n",
    "\n",
    "y_pred_train_nb = classifier.predict(X_train)\n",
    "cm_train_nb = confusion_matrix(y_pred_train_nb, y_train)\n",
    "\n",
    "accuracy_train_nb = ((cm_train_nb[0][0] + cm_train_nb[1][1])/len(y_train))\n",
    "accuracy_test_nb = ((cm_test_nb[0][0] + cm_test_nb[1][1])/len(y_test))\n",
    "print()\n",
    "print('Accuracy for training set for nb = {}'.format(accuracy_train_nb))\n",
    "print('Accuracy for test set for nb = {}'.format(accuracy_test_nb))\n",
    "print()\n",
    "print(\"confusion matrix\")\n",
    "print(cm_train_nb)\n"
   ]
  },
  {
   "cell_type": "code",
   "execution_count": 30,
   "metadata": {},
   "outputs": [
    {
     "name": "stdout",
     "output_type": "stream",
     "text": [
      "\n",
      "Accuracy for training set for Logistic Regression = 0.8636363636363636\n",
      "Accuracy for test set for Logistic Regression = 0.8032786885245902\n"
     ]
    },
    {
     "name": "stderr",
     "output_type": "stream",
     "text": [
      "C:\\Users\\hp\\anaconda3\\lib\\site-packages\\sklearn\\linear_model\\_logistic.py:940: ConvergenceWarning: lbfgs failed to converge (status=1):\n",
      "STOP: TOTAL NO. of ITERATIONS REACHED LIMIT.\n",
      "\n",
      "Increase the number of iterations (max_iter) or scale the data as shown in:\n",
      "    https://scikit-learn.org/stable/modules/preprocessing.html\n",
      "Please also refer to the documentation for alternative solver options:\n",
      "    https://scikit-learn.org/stable/modules/linear_model.html#logistic-regression\n",
      "  extra_warning_msg=_LOGISTIC_SOLVER_CONVERGENCE_MSG)\n"
     ]
    }
   ],
   "source": [
    "#Logistic Regression\n",
    "from sklearn.linear_model import LogisticRegression\n",
    "classifier = LogisticRegression()\n",
    "classifier.fit(X_train, y_train)\n",
    "\n",
    "# Predicting the Test set results\n",
    "y_pred_test_log_reg = classifier.predict(X_test)\n",
    "\n",
    "from sklearn.metrics import confusion_matrix\n",
    "cm_test_log_reg = confusion_matrix(y_pred_test_log_reg, y_test)\n",
    "\n",
    "y_pred_train_log_reg = classifier.predict(X_train)\n",
    "cm_train_log_reg = confusion_matrix(y_pred_train_log_reg, y_train)\n",
    "\n",
    "accuracy_train_log_reg = ((cm_train_log_reg[0][0] + cm_train_log_reg[1][1])/len(y_train))\n",
    "accuracy_test_log_reg = ((cm_test_log_reg[0][0] + cm_test_log_reg[1][1])/len(y_test))\n",
    "print()\n",
    "print('Accuracy for training set for Logistic Regression = {}'.format(accuracy_train_log_reg))\n",
    "print('Accuracy for test set for Logistic Regression = {}'.format(accuracy_test_log_reg))\n"
   ]
  },
  {
   "cell_type": "code",
   "execution_count": 31,
   "metadata": {},
   "outputs": [
    {
     "name": "stdout",
     "output_type": "stream",
     "text": [
      "\n",
      "Accuracy for training set for Decision Tree = 1.0\n",
      "Accuracy for test set for Decision Tree = 0.7868852459016393\n"
     ]
    }
   ],
   "source": [
    "#Decision Tree\n",
    "from sklearn.tree import DecisionTreeClassifier\n",
    "classifier = DecisionTreeClassifier()\n",
    "classifier.fit(X_train, y_train)\n",
    "\n",
    "# Predicting the Test set results\n",
    "y_pred_test_dt = classifier.predict(X_test)\n",
    "\n",
    "from sklearn.metrics import confusion_matrix\n",
    "cm_test_dt = confusion_matrix(y_pred_test_dt, y_test)\n",
    "\n",
    "y_pred_train_dt = classifier.predict(X_train)\n",
    "cm_train_dt = confusion_matrix(y_pred_train_dt, y_train)\n",
    "\n",
    "accuracy_train_dt = ((cm_train_dt[0][0] + cm_train_dt[1][1])/len(y_train))\n",
    "accuracy_test_dt = ((cm_test_dt[0][0] + cm_test_dt[1][1])/len(y_test))\n",
    "print()\n",
    "print('Accuracy for training set for Decision Tree = {}'.format(accuracy_train_dt))\n",
    "print('Accuracy for test set for Decision Tree = {}'.format(accuracy_test_dt))"
   ]
  },
  {
   "cell_type": "code",
   "execution_count": 32,
   "metadata": {},
   "outputs": [
    {
     "name": "stdout",
     "output_type": "stream",
     "text": [
      "\n",
      "\n",
      "Accuracy for training set for Random Forest = 0.9917355371900827\n",
      "Accuracy for test set for Random Forest = 0.7868852459016393\n"
     ]
    }
   ],
   "source": [
    "#Random Forest\n",
    "from sklearn.ensemble import RandomForestClassifier\n",
    "classifier = RandomForestClassifier(n_estimators = 10)\n",
    "classifier.fit(X_train, y_train)\n",
    "\n",
    "# Predicting the Test set results\n",
    "y_pred_test_rf = classifier.predict(X_test)\n",
    "\n",
    "from sklearn.metrics import confusion_matrix\n",
    "cm_test_rf = confusion_matrix(y_pred_test_rf, y_test)\n",
    "\n",
    "y_pred_train_rf = classifier.predict(X_train)\n",
    "cm_train_rf = confusion_matrix(y_pred_train_rf, y_train)\n",
    "\n",
    "accuracy_train_rf = ((cm_train_rf[0][0] + cm_train_rf[1][1])/len(y_train))\n",
    "accuracy_test_rf = ((cm_test_rf[0][0] + cm_test_rf[1][1])/len(y_test))\n",
    "print()\n",
    "print()\n",
    "print('Accuracy for training set for Random Forest = {}'.format(accuracy_train_rf))\n",
    "print('Accuracy for test set for Random Forest = {}'.format(accuracy_test_rf))"
   ]
  },
  {
   "cell_type": "code",
   "execution_count": 39,
   "metadata": {},
   "outputs": [
    {
     "name": "stdout",
     "output_type": "stream",
     "text": [
      "knn Score on Train Dataset is : 1.0\n",
      "knn Score on Test Dataset is : 0.6721311475409836\n",
      "[[25 10]\n",
      " [10 16]]\n",
      "              precision    recall  f1-score   support\n",
      "\n",
      "           0       0.71      0.71      0.71        35\n",
      "           1       0.62      0.62      0.62        26\n",
      "\n",
      "    accuracy                           0.67        61\n",
      "   macro avg       0.66      0.66      0.66        61\n",
      "weighted avg       0.67      0.67      0.67        61\n",
      "\n"
     ]
    }
   ],
   "source": [
    "# K Nearest Neighbour\n",
    "#Taking K = 1\n",
    "\n",
    "from sklearn.neighbors import KNeighborsClassifier\n",
    "knn = KNeighborsClassifier(n_neighbors=1)\n",
    "knn.fit(X_train,y_train)\n",
    "knn_score_train = knn.score(X_train, y_train)\n",
    "print(\"knn Score on Train Dataset is :\",knn_score_train)\n",
    "\n",
    "knn_score_test = knn.score(X_test, y_test)\n",
    "print(\"knn Score on Test Dataset is :\",knn_score_test)\n",
    "\n",
    "pred = knn.predict(X_test)\n",
    "\n",
    "from sklearn.metrics import classification_report,confusion_matrix\n",
    "print(confusion_matrix(y_test,pred))\n",
    "print(classification_report(y_test,pred))"
   ]
  },
  {
   "cell_type": "code",
   "execution_count": 35,
   "metadata": {},
   "outputs": [
    {
     "name": "stdout",
     "output_type": "stream",
     "text": [
      "3\n"
     ]
    },
    {
     "data": {
      "text/plain": [
       "Text(0, 0.5, 'Error Rate')"
      ]
     },
     "execution_count": 35,
     "metadata": {},
     "output_type": "execute_result"
    },
    {
     "data": {
      "image/png": "[encoded data removed]",
      "text/plain": [
       "<Figure size 720x432 with 1 Axes>"
      ]
     },
     "metadata": {
      "needs_background": "light"
     },
     "output_type": "display_data"
    }
   ],
   "source": [
    "# Selecting best value of K\n",
    "error_rate = []\n",
    "\n",
    "# Will take some time\n",
    "for i in range(1,40,2):\n",
    "    \n",
    "    knn = KNeighborsClassifier(n_neighbors=i)\n",
    "    knn.fit(X_train,y_train)\n",
    "    pred_i = knn.predict(X_test)\n",
    "    error_rate.append(np.mean(pred_i != y_test))\n",
    "\n",
    "k_min = 2*(error_rate.index(min(error_rate)))-1\n",
    "\n",
    "\n",
    "print(k_min)\n",
    "plt.figure(figsize=(10,6))    \n",
    "plt.plot(range(1,40,2),error_rate,color='blue', linestyle='dashed', marker='o',\n",
    "         markerfacecolor='red', markersize=10)\n",
    "plt.title('Error Rate vs. K Value')\n",
    "plt.xlabel('K')\n",
    "plt.ylabel('Error Rate')"
   ]
  },
  {
   "cell_type": "code",
   "execution_count": 36,
   "metadata": {},
   "outputs": [
    {
     "name": "stdout",
     "output_type": "stream",
     "text": [
      "3\n"
     ]
    }
   ],
   "source": [
    "# Value of K having less error\n",
    "print(k_min)"
   ]
  },
  {
   "cell_type": "code",
   "execution_count": 37,
   "metadata": {},
   "outputs": [
    {
     "name": "stdout",
     "output_type": "stream",
     "text": [
      "knn Score on Train Dataset is : 0.756198347107438\n",
      "knn Score on Test Dataset is : 0.6885245901639344\n",
      "[[25 10]\n",
      " [ 9 17]]\n",
      "              precision    recall  f1-score   support\n",
      "\n",
      "           0       0.74      0.71      0.72        35\n",
      "           1       0.63      0.65      0.64        26\n",
      "\n",
      "    accuracy                           0.69        61\n",
      "   macro avg       0.68      0.68      0.68        61\n",
      "weighted avg       0.69      0.69      0.69        61\n",
      "\n"
     ]
    }
   ],
   "source": [
    "# Predicting result using K=3 having minimum error\n",
    "\n",
    "from sklearn.neighbors import KNeighborsClassifier\n",
    "knn = KNeighborsClassifier(n_neighbors=k_min)\n",
    "knn.fit(X_train,y_train)\n",
    "knn_score_train = knn.score(X_train, y_train)\n",
    "print(\"knn Score on Train Dataset is :\",knn_score_train)\n",
    "\n",
    "knn_score_test = knn.score(X_test, y_test)\n",
    "print(\"knn Score on Test Dataset is :\",knn_score_test)\n",
    "\n",
    "pred = knn.predict(X_test)\n",
    "\n",
    "from sklearn.metrics import classification_report,confusion_matrix\n",
    "print(confusion_matrix(y_test,pred))\n",
    "print(classification_report(y_test,pred))"
   ]
  },
  {
   "cell_type": "markdown",
   "metadata": {},
   "source": [
    "# Compare Accuracy"
   ]
  },
  {
   "cell_type": "code",
   "execution_count": 40,
   "metadata": {},
   "outputs": [
    {
     "data": {
      "image/png": "[encoded data removed]",
      "text/plain": [
       "<Figure size 432x288 with 1 Axes>"
      ]
     },
     "metadata": {
      "needs_background": "light"
     },
     "output_type": "display_data"
    }
   ],
   "source": [
    "#compare trainset accuracy\n",
    "def compare_trainset_accuracy():\n",
    "           \n",
    "            label = ['nb', 'dtf','log_reg','svm','rf']\n",
    "            accuracy = [accuracy_train_nb, accuracy_train_dt,accuracy_train_log_reg,accuracy_train_svm,accuracy_train_rf]\n",
    "            index = np.arange(len(label))\n",
    "            plt.bar(index, accuracy,color = 'yellow')\n",
    "            plt.xlabel('Algorithm', fontsize=15)\n",
    "            plt.ylabel('Accuracy', fontsize=15)\n",
    "            plt.xticks(index, label, fontsize=15, rotation=30)\n",
    "            plt.title('Accuracy for Train set')\n",
    "            plt.show()\n",
    "compare_trainset_accuracy()\n"
   ]
  },
  {
   "cell_type": "code",
   "execution_count": 41,
   "metadata": {},
   "outputs": [
    {
     "data": {
      "image/png": "[encoded data removed]",
      "text/plain": [
       "<Figure size 432x288 with 1 Axes>"
      ]
     },
     "metadata": {
      "needs_background": "light"
     },
     "output_type": "display_data"
    }
   ],
   "source": [
    "def compare_testset_accuracy():\n",
    "            #fig = plt.figure()\n",
    "            #ax = fig.add_axes([0,0,1,1])\n",
    "            label = ['nb', 'dtf','log_reg','svm','rf']\n",
    "            accuracy = [accuracy_test_nb, accuracy_test_dt,accuracy_test_log_reg,accuracy_test_svm,accuracy_test_rf]\n",
    "            index = np.arange(len(label))\n",
    "            plt.bar(index, accuracy,color = 'Orange')\n",
    "            plt.xlabel('Algorithm', fontsize=15)\n",
    "            plt.ylabel('Accuracy', fontsize=15)\n",
    "            plt.xticks(index, label, fontsize=15, rotation=30)\n",
    "            plt.title('Accuracy for Test set')\n",
    "            plt.show()\n",
    "compare_testset_accuracy()"
   ]
  },
  {
   "cell_type": "code",
   "execution_count": 50,
   "metadata": {},
   "outputs": [
    {
     "data": {
      "image/png": "[encoded data removed]",
      "text/plain": [
       "<Figure size 864x432 with 1 Axes>"
      ]
     },
     "metadata": {
      "needs_background": "light"
     },
     "output_type": "display_data"
    }
   ],
   "source": [
    "#Comparing accuracy for train an test set for same algorithm\n",
    "def comparision_accuracy_train_and_test():\n",
    "   \n",
    "    # set width of bar \n",
    "    barWidth = 0.25\n",
    "    fig = plt.subplots(figsize =(12,6)) \n",
    "       \n",
    "       \n",
    "    # set height of bar \n",
    "    TRAIN= [accuracy_train_nb, accuracy_train_dt,accuracy_train_log_reg,accuracy_train_svm,accuracy_train_rf] \n",
    "    TEST = [accuracy_test_nb, accuracy_test_dt,accuracy_test_log_reg,accuracy_test_svm,accuracy_test_rf] \n",
    "    \n",
    "    \n",
    "       \n",
    "    # Set position of bar on X axis \n",
    "    br1 = np.arange(5) \n",
    "    br2 = [x + barWidth for x in br1] \n",
    "    \n",
    "    \n",
    "       \n",
    "    # Make the plot \n",
    "    plt.bar(br1, TRAIN, color ='r', width = barWidth, \n",
    "            edgecolor ='grey', label ='TRAIN') \n",
    "    plt.bar(br2, TEST, color ='g', width = barWidth, \n",
    "            edgecolor ='grey', label ='TEST') \n",
    "     \n",
    "    \n",
    "       \n",
    "    # Adding Xticks  \n",
    "    plt.xlabel('ALGO', fontweight ='bold') \n",
    "    plt.ylabel('ACCURACY', fontweight ='bold') \n",
    "    plt.xticks([r + barWidth for r in range(len(TRAIN))], \n",
    "               ['NB', 'DTF','log_reg','svm','rf']) \n",
    "    plt.title('Comparision of Accuracy for Train and Test set')\n",
    "    plt.legend()\n",
    "       \n",
    "    plt.show()\n",
    "comparision_accuracy_train_and_test()    \n"
   ]
  },
  {
   "cell_type": "code",
   "execution_count": null,
   "metadata": {},
   "outputs": [],
   "source": []
  },
  {
   "cell_type": "code",
   "execution_count": null,
   "metadata": {},
   "outputs": [],
   "source": []
  }
 ],
 "metadata": {
  "kernelspec": {
   "display_name": "Python 3",
   "language": "python",
   "name": "python3"
  },
  "language_info": {
   "codemirror_mode": {
    "name": "ipython",
    "version": 3
   },
   "file_extension": ".py",
   "mimetype": "text/x-python",
   "name": "python",
   "nbconvert_exporter": "python",
   "pygments_lexer": "ipython3",
   "version": "3.7.6"
  }
 },
 "nbformat": 4,
 "nbformat_minor": 4
}
